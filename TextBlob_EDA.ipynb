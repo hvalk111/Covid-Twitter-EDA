{
 "cells": [
  {
   "cell_type": "code",
   "execution_count": 29,
   "metadata": {},
   "outputs": [],
   "source": [
    "from textblob import TextBlob\n",
    "import pandas as pd\n",
    "import numpy as np"
   ]
  },
  {
   "cell_type": "code",
   "execution_count": 30,
   "metadata": {},
   "outputs": [],
   "source": [
    "df = pd.read_csv('./data/processed/ca.csv')"
   ]
  },
  {
   "cell_type": "code",
   "execution_count": 31,
   "metadata": {},
   "outputs": [
    {
     "name": "stdout",
     "output_type": "stream",
     "text": [
      "69.86% non-zero polarity scores\n",
      "74.59% non-zero subjectivity scores\n"
     ]
    }
   ],
   "source": [
    "polarity = []\n",
    "subjectivity = []\n",
    "\n",
    "df['text'].map(lambda x: polarity.append(TextBlob(x).sentiment.polarity))\n",
    "df['text'].map(lambda x: subjectivity.append(TextBlob(x).sentiment.subjectivity))\n",
    "\n",
    "print(f'{round((np.count_nonzero(polarity) / len(polarity))*100, 2)}% non-zero polarity scores')\n",
    "print(f'{round((np.count_nonzero(subjectivity) / len(subjectivity))*100, 2)}% non-zero subjectivity scores')\n",
    "\n"
   ]
  },
  {
   "cell_type": "code",
   "execution_count": 32,
   "metadata": {},
   "outputs": [],
   "source": [
    "sent_sum = [np.abs(x)+np.abs(y) for x,y in zip(polarity,subjectivity)]"
   ]
  },
  {
   "cell_type": "code",
   "execution_count": 34,
   "metadata": {},
   "outputs": [],
   "source": [
    "percent_blank = np.count_nonzero(sent_sum) / len(sent_sum) * 100"
   ]
  },
  {
   "cell_type": "code",
   "execution_count": 36,
   "metadata": {},
   "outputs": [
    {
     "name": "stdout",
     "output_type": "stream",
     "text": [
      "25.23% of tweets have neither polarity nor subjectivity scores\n"
     ]
    }
   ],
   "source": [
    "print(f'{round(100 - percent_blank, 2)}% of tweets have neither polarity nor subjectivity scores')"
   ]
  }
 ],
 "metadata": {
  "kernelspec": {
   "display_name": "Python 3",
   "language": "python",
   "name": "python3"
  },
  "language_info": {
   "codemirror_mode": {
    "name": "ipython",
    "version": 3
   },
   "file_extension": ".py",
   "mimetype": "text/x-python",
   "name": "python",
   "nbconvert_exporter": "python",
   "pygments_lexer": "ipython3",
   "version": "3.7.6"
  }
 },
 "nbformat": 4,
 "nbformat_minor": 4
}
