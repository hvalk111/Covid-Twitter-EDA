{
 "cells": [
  {
   "cell_type": "code",
   "execution_count": 174,
   "metadata": {},
   "outputs": [],
   "source": [
    "from textblob import TextBlob\n",
    "import pandas as pd\n",
    "import numpy as np\n",
    "import matplotlib.pyplot as plt"
   ]
  },
  {
   "cell_type": "code",
   "execution_count": 175,
   "metadata": {},
   "outputs": [],
   "source": [
    "df = pd.read_csv('./data/processed/ga.csv', lineterminator='\\n')\n",
    "pd.set_option('display.max_columns', None)"
   ]
  },
  {
   "cell_type": "markdown",
   "metadata": {},
   "source": [
    "#### combine hashtags and text"
   ]
  },
  {
   "cell_type": "code",
   "execution_count": 176,
   "metadata": {},
   "outputs": [],
   "source": [
    "df['all_text'] = df['hashtags'] + ' ' + df['text']"
   ]
  },
  {
   "cell_type": "markdown",
   "metadata": {},
   "source": [
    "#### calculate sentiment"
   ]
  },
  {
   "cell_type": "code",
   "execution_count": 177,
   "metadata": {},
   "outputs": [],
   "source": [
    "df['TB_polarity'] = df['all_text'].map(lambda x: TextBlob(str(x)).sentiment.polarity)\n",
    "df['TB_subjectivity'] = df['all_text'].map(lambda x: TextBlob(str(x)).sentiment.subjectivity)\n"
   ]
  },
  {
   "cell_type": "markdown",
   "metadata": {},
   "source": [
    "#### remove rows without text"
   ]
  },
  {
   "cell_type": "code",
   "execution_count": 178,
   "metadata": {},
   "outputs": [],
   "source": [
    "df = df[df['all_text'].notna()]"
   ]
  },
  {
   "cell_type": "markdown",
   "metadata": {},
   "source": [
    "#### convert created_at to datetime object, set date as index, drop unnecessary columns"
   ]
  },
  {
   "cell_type": "code",
   "execution_count": 179,
   "metadata": {},
   "outputs": [],
   "source": [
    "df['created_at'] = pd.to_datetime(df['created_at']).dt.date\n",
    "\n",
    "df = df.set_index(df['created_at'])\n",
    "\n",
    "df = df.loc[:, ['all_text', 'TB_polarity', 'TB_subjectivity']]\n",
    "\n",
    "df.index = pd.to_datetime(df.index)"
   ]
  },
  {
   "cell_type": "markdown",
   "metadata": {},
   "source": [
    "#### save file"
   ]
  },
  {
   "cell_type": "code",
   "execution_count": 180,
   "metadata": {},
   "outputs": [],
   "source": [
    "# df.to_hdf('./data/processed/tx_sentiment_all.hdf', key='df')"
   ]
  },
  {
   "cell_type": "markdown",
   "metadata": {},
   "source": [
    "#### groupby dates, calculate mean sentiment per day"
   ]
  },
  {
   "cell_type": "code",
   "execution_count": 181,
   "metadata": {},
   "outputs": [],
   "source": [
    "df1 = df.groupby('created_at').mean()\n",
    "df2 = df.groupby('created_at').std()\n"
   ]
  },
  {
   "cell_type": "code",
   "execution_count": 182,
   "metadata": {},
   "outputs": [],
   "source": [
    "# x_med = df['TB_polarity'].median()\n",
    "# y_med = df['TB_subjectivity'].median()"
   ]
  },
  {
   "cell_type": "code",
   "execution_count": 183,
   "metadata": {},
   "outputs": [],
   "source": [
    "# plt.scatter(df['TB_polarity'], df['TB_subjectivity'])\n",
    "# plt.axvline(x_med)\n",
    "# plt.axhline(y_med);"
   ]
  },
  {
   "cell_type": "code",
   "execution_count": 184,
   "metadata": {},
   "outputs": [],
   "source": [
    "# temp_df = df[(df['TB_polarity']>x_med) & (df['TB_subjectivity']> y_med)]\n",
    "# quad_df = pd.DataFrame(temp_df.groupby('created_at')['all_text'].count())\n",
    "\n",
    "# temp_df = df[(df['TB_polarity']>x_med) & (df['TB_subjectivity']< y_med)]\n",
    "# quad_df['quad2'] = temp_df.groupby('created_at')['all_text'].count()\n",
    "\n",
    "# temp_df = df[(df['TB_polarity']<x_med) & (df['TB_subjectivity']> y_med)]\n",
    "# quad_df['quad3'] = temp_df.groupby('created_at')['all_text'].count()\n",
    "\n",
    "# temp_df = df[(df['TB_polarity']<x_med) & (df['TB_subjectivity']< y_med)]\n",
    "# quad_df['quad4'] = temp_df.groupby('created_at')['all_text'].count()\n",
    "\n",
    "#df.groupby('created_at')['TB_polarity'].apply(lambda x: sum(x < x_med)).sum()"
   ]
  },
  {
   "cell_type": "code",
   "execution_count": 185,
   "metadata": {},
   "outputs": [],
   "source": [
    "#quad_df"
   ]
  },
  {
   "cell_type": "code",
   "execution_count": 186,
   "metadata": {},
   "outputs": [],
   "source": [
    "df2.columns = ['TB_polarity_std', 'TB_subjectivity_std']"
   ]
  },
  {
   "cell_type": "code",
   "execution_count": 187,
   "metadata": {},
   "outputs": [
    {
     "data": {
      "text/html": [
       "<div>\n",
       "<style scoped>\n",
       "    .dataframe tbody tr th:only-of-type {\n",
       "        vertical-align: middle;\n",
       "    }\n",
       "\n",
       "    .dataframe tbody tr th {\n",
       "        vertical-align: top;\n",
       "    }\n",
       "\n",
       "    .dataframe thead th {\n",
       "        text-align: right;\n",
       "    }\n",
       "</style>\n",
       "<table border=\"1\" class=\"dataframe\">\n",
       "  <thead>\n",
       "    <tr style=\"text-align: right;\">\n",
       "      <th></th>\n",
       "      <th>TB_polarity</th>\n",
       "      <th>TB_subjectivity</th>\n",
       "      <th>TB_polarity_std</th>\n",
       "      <th>TB_subjectivity_std</th>\n",
       "    </tr>\n",
       "    <tr>\n",
       "      <th>created_at</th>\n",
       "      <th></th>\n",
       "      <th></th>\n",
       "      <th></th>\n",
       "      <th></th>\n",
       "    </tr>\n",
       "  </thead>\n",
       "  <tbody>\n",
       "    <tr>\n",
       "      <th>2020-03-20</th>\n",
       "      <td>0.120833</td>\n",
       "      <td>0.137500</td>\n",
       "      <td>0.165202</td>\n",
       "      <td>0.213600</td>\n",
       "    </tr>\n",
       "    <tr>\n",
       "      <th>2020-03-21</th>\n",
       "      <td>0.053976</td>\n",
       "      <td>0.259444</td>\n",
       "      <td>0.362793</td>\n",
       "      <td>0.300668</td>\n",
       "    </tr>\n",
       "    <tr>\n",
       "      <th>2020-03-22</th>\n",
       "      <td>0.245297</td>\n",
       "      <td>0.299603</td>\n",
       "      <td>0.260400</td>\n",
       "      <td>0.295728</td>\n",
       "    </tr>\n",
       "    <tr>\n",
       "      <th>2020-03-23</th>\n",
       "      <td>0.108275</td>\n",
       "      <td>0.182609</td>\n",
       "      <td>0.240680</td>\n",
       "      <td>0.309254</td>\n",
       "    </tr>\n",
       "    <tr>\n",
       "      <th>2020-03-24</th>\n",
       "      <td>0.048433</td>\n",
       "      <td>0.225880</td>\n",
       "      <td>0.291787</td>\n",
       "      <td>0.347307</td>\n",
       "    </tr>\n",
       "    <tr>\n",
       "      <th>...</th>\n",
       "      <td>...</td>\n",
       "      <td>...</td>\n",
       "      <td>...</td>\n",
       "      <td>...</td>\n",
       "    </tr>\n",
       "    <tr>\n",
       "      <th>2020-07-31</th>\n",
       "      <td>0.132792</td>\n",
       "      <td>0.182522</td>\n",
       "      <td>0.187797</td>\n",
       "      <td>0.258125</td>\n",
       "    </tr>\n",
       "    <tr>\n",
       "      <th>2020-08-01</th>\n",
       "      <td>0.218087</td>\n",
       "      <td>0.467235</td>\n",
       "      <td>0.167979</td>\n",
       "      <td>0.270032</td>\n",
       "    </tr>\n",
       "    <tr>\n",
       "      <th>2020-08-02</th>\n",
       "      <td>0.233565</td>\n",
       "      <td>0.438889</td>\n",
       "      <td>0.363853</td>\n",
       "      <td>0.285709</td>\n",
       "    </tr>\n",
       "    <tr>\n",
       "      <th>2020-08-03</th>\n",
       "      <td>0.324479</td>\n",
       "      <td>0.502083</td>\n",
       "      <td>0.187918</td>\n",
       "      <td>0.157164</td>\n",
       "    </tr>\n",
       "    <tr>\n",
       "      <th>2020-08-04</th>\n",
       "      <td>0.070139</td>\n",
       "      <td>0.441667</td>\n",
       "      <td>0.192754</td>\n",
       "      <td>0.137689</td>\n",
       "    </tr>\n",
       "  </tbody>\n",
       "</table>\n",
       "<p>128 rows × 4 columns</p>\n",
       "</div>"
      ],
      "text/plain": [
       "            TB_polarity  TB_subjectivity  TB_polarity_std  TB_subjectivity_std\n",
       "created_at                                                                    \n",
       "2020-03-20     0.120833         0.137500         0.165202             0.213600\n",
       "2020-03-21     0.053976         0.259444         0.362793             0.300668\n",
       "2020-03-22     0.245297         0.299603         0.260400             0.295728\n",
       "2020-03-23     0.108275         0.182609         0.240680             0.309254\n",
       "2020-03-24     0.048433         0.225880         0.291787             0.347307\n",
       "...                 ...              ...              ...                  ...\n",
       "2020-07-31     0.132792         0.182522         0.187797             0.258125\n",
       "2020-08-01     0.218087         0.467235         0.167979             0.270032\n",
       "2020-08-02     0.233565         0.438889         0.363853             0.285709\n",
       "2020-08-03     0.324479         0.502083         0.187918             0.157164\n",
       "2020-08-04     0.070139         0.441667         0.192754             0.137689\n",
       "\n",
       "[128 rows x 4 columns]"
      ]
     },
     "execution_count": 187,
     "metadata": {},
     "output_type": "execute_result"
    }
   ],
   "source": [
    "df = pd.concat([df1, df2], axis=1)\n",
    "df"
   ]
  },
  {
   "cell_type": "markdown",
   "metadata": {},
   "source": [
    "#### save file"
   ]
  },
  {
   "cell_type": "code",
   "execution_count": 188,
   "metadata": {},
   "outputs": [],
   "source": [
    "df.to_hdf('./data/processed/ga_sentiment_mean.hdf', key='df')"
   ]
  }
 ],
 "metadata": {
  "kernelspec": {
   "display_name": "Python 3",
   "language": "python",
   "name": "python3"
  },
  "language_info": {
   "codemirror_mode": {
    "name": "ipython",
    "version": 3
   },
   "file_extension": ".py",
   "mimetype": "text/x-python",
   "name": "python",
   "nbconvert_exporter": "python",
   "pygments_lexer": "ipython3",
   "version": "3.7.6"
  }
 },
 "nbformat": 4,
 "nbformat_minor": 4
}
