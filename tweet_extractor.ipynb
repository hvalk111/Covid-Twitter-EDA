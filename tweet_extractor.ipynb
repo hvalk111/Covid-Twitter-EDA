{
 "cells": [
  {
   "cell_type": "code",
   "execution_count": 30,
   "metadata": {
    "scrolled": false
   },
   "outputs": [],
   "source": [
    "import pandas as pd\n",
    "from os import listdir\n",
    "from os.path import isfile, join"
   ]
  },
  {
   "cell_type": "markdown",
   "metadata": {},
   "source": [
    "Load in the dehydrated tweets; due to Twitter protocol, we can't copy a list of tweets from somone else, but we can take a dehydrated list from someone else and manually pull the tweets from twitter ourself via a hydrator."
   ]
  },
  {
   "cell_type": "code",
   "execution_count": 65,
   "metadata": {},
   "outputs": [],
   "source": [
    "dataframe = pd.DataFrame()\n",
    "onlyfiles = [f for f in listdir(\"./data/dehydrated/\") if isfile(join(\"./data/dehydrated/\", f))]\n",
    "for file in onlyfiles:\n",
    "    df=pd.read_csv(f'./data/dehydrated/{file}', header=None)\n",
    "    \n",
    "    dataframe = dataframe.append(df)\n",
    "    \n",
    "dataframe=dataframe[0]\n"
   ]
  },
  {
   "cell_type": "markdown",
   "metadata": {},
   "source": [
    "Drop `NaN`'s"
   ]
  },
  {
   "cell_type": "code",
   "execution_count": 66,
   "metadata": {},
   "outputs": [
    {
     "data": {
      "text/plain": [
       "0"
      ]
     },
     "execution_count": 66,
     "metadata": {},
     "output_type": "execute_result"
    }
   ],
   "source": [
    "dataframe.dropna(inplace=True)\n",
    "dataframe.isnull().sum()"
   ]
  },
  {
   "cell_type": "markdown",
   "metadata": {},
   "source": [
    "Cast type as `int64`"
   ]
  },
  {
   "cell_type": "code",
   "execution_count": 67,
   "metadata": {},
   "outputs": [],
   "source": [
    "dataframe[0] = dataframe[0].astype('int64')"
   ]
  },
  {
   "cell_type": "markdown",
   "metadata": {},
   "source": [
    "Save a backup copy but realize this will be too big to upload through `git` so commenting it out here."
   ]
  },
  {
   "cell_type": "code",
   "execution_count": 69,
   "metadata": {},
   "outputs": [
    {
     "name": "stdout",
     "output_type": "stream",
     "text": [
      "(168492,)\n"
     ]
    }
   ],
   "source": [
    "dataframe.to_csv('./data/sum.csv',header=None, index=None,float_format='%.0f')\n",
    "print(dataframe.shape)"
   ]
  },
  {
   "cell_type": "code",
   "execution_count": 70,
   "metadata": {},
   "outputs": [],
   "source": [
    "dataframe.to_csv('./data/pandas.txt', header=None, index=None, sep=' ', mode='a',float_format='%.0f')"
   ]
  },
  {
   "cell_type": "markdown",
   "metadata": {},
   "source": [
    "## After this point you must use [Hydrator](https://github.com/DocNow/hydrator/releases/tag/v0.0.13) to hydrate the tweets from pandas.txt. <br>\n",
    "Save them as `tweets.csv`."
   ]
  },
  {
   "cell_type": "code",
   "execution_count": null,
   "metadata": {},
   "outputs": [],
   "source": [
    "df = pd.read_csv('./data/tweets.csv')\n",
    "ny = df[df['place'].str.contains('NY', na = False)]\n",
    "fl = df[df['place'].str.contains('FL', na = False)]\n",
    "tx = df[df['place'].str.contains('TX', na = False)]\n",
    "ca = df[df['place'].str.contains('CA', na = False)]\n",
    "ga = df[df['place'].str.contains('GA', na = False)]\n",
    "ga.to_csv('./data/processed/ga.csv')\n",
    "ny.to_csv('./data/processed/ny.csv')\n",
    "fl.to_csv('./data/processed/fl.csv')\n",
    "tx.to_csv('./data/processed/tx.csv')\n",
    "ca.to_csv('./data/processed/ca.csv')"
   ]
  }
 ],
 "metadata": {
  "kernelspec": {
   "display_name": "Python 3",
   "language": "python",
   "name": "python3"
  },
  "language_info": {
   "codemirror_mode": {
    "name": "ipython",
    "version": 3
   },
   "file_extension": ".py",
   "mimetype": "text/x-python",
   "name": "python",
   "nbconvert_exporter": "python",
   "pygments_lexer": "ipython3",
   "version": "3.7.6"
  }
 },
 "nbformat": 4,
 "nbformat_minor": 4
}
