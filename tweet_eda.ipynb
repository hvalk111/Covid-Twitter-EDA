{
 "cells": [
  {
   "cell_type": "code",
   "execution_count": 8,
   "metadata": {},
   "outputs": [
    {
     "name": "stderr",
     "output_type": "stream",
     "text": [
      "/Library/Python/anaconda3/lib/python3.7/site-packages/sklearn/utils/deprecation.py:143: FutureWarning: The sklearn.feature_extraction.stop_words module is  deprecated in version 0.22 and will be removed in version 0.24. The corresponding classes / functions should instead be imported from sklearn.feature_extraction.text. Anything that cannot be imported from sklearn.feature_extraction.text is now part of the private API.\n",
      "  warnings.warn(message, FutureWarning)\n"
     ]
    }
   ],
   "source": [
    "import pandas as pd\n",
    "import numpy as np\n",
    "import matplotlib.pyplot as plt\n",
    "import seaborn as sns\n",
    "from sklearn.feature_extraction.stop_words import ENGLISH_STOP_WORDS as stopwords\n",
    "from sklearn.feature_extraction.text import CountVectorizer, TfidfVectorizer"
   ]
  },
  {
   "cell_type": "code",
   "execution_count": 9,
   "metadata": {},
   "outputs": [],
   "source": [
    "def most_freq(df):\n",
    "    cvec = CountVectorizer(stop_words = 'english')\n",
    "\n",
    "    cvec.fit(df['text'])\n",
    "\n",
    "    X_train = cvec.transform(df['text'])\n",
    "  \n",
    "    X_train_df = pd.DataFrame(X_train.toarray(),\n",
    "                              columns=cvec.get_feature_names())\n",
    "    top_words = {}\n",
    "    for i in X_train_df.columns:\n",
    "        top_words[i] =  X_train_df[i].sum()\n",
    "    return pd.DataFrame(sorted(top_words.items(), key = lambda x: x[1], reverse = True)).head(25)"
   ]
  },
  {
   "cell_type": "code",
   "execution_count": 10,
   "metadata": {},
   "outputs": [],
   "source": [
    "ca = pd.read_csv('./data/processed/ca.csv', index_col=0)"
   ]
  },
  {
   "cell_type": "code",
   "execution_count": 17,
   "metadata": {},
   "outputs": [],
   "source": [
    "ca_mf = most_freq(ca)[0]"
   ]
  },
  {
   "cell_type": "code",
   "execution_count": 12,
   "metadata": {},
   "outputs": [],
   "source": [
    "ca['created_at'] = pd.to_datetime(ca['created_at'])"
   ]
  },
  {
   "cell_type": "code",
   "execution_count": 14,
   "metadata": {},
   "outputs": [],
   "source": [
    "df = ca.set_index('created_at')\n",
    "df['day'] = df.index.date\n",
    "counts = df.groupby(['day', 'text']).agg(len)"
   ]
  },
  {
   "cell_type": "code",
   "execution_count": 20,
   "metadata": {},
   "outputs": [],
   "source": [
    "for word in ca_mf:\n",
    "    b = df[df['text'].str.contains(word)]"
   ]
  },
  {
   "cell_type": "code",
   "execution_count": 22,
   "metadata": {},
   "outputs": [
    {
     "data": {
      "text/plain": [
       "0           https\n",
       "1           covid\n",
       "2      california\n",
       "3          corona\n",
       "4         covid19\n",
       "5     coronavirus\n",
       "6              19\n",
       "7        pandemic\n",
       "8             los\n",
       "9      quarantine\n",
       "10            day\n",
       "11        angeles\n",
       "12          today\n",
       "13           2020\n",
       "14            amp\n",
       "15           time\n",
       "16           just\n",
       "17            new\n",
       "18           home\n",
       "19            san\n",
       "20           mask\n",
       "21         social\n",
       "22           like\n",
       "23     distancing\n",
       "24           love\n",
       "Name: 0, dtype: object"
      ]
     },
     "execution_count": 22,
     "metadata": {},
     "output_type": "execute_result"
    }
   ],
   "source": [
    "ca_mf"
   ]
  },
  {
   "cell_type": "code",
   "execution_count": 23,
   "metadata": {},
   "outputs": [
    {
     "data": {
      "text/plain": [
       "created_at\n",
       "2020-07-23 18:20:23+00:00    New video link in bio. My son and I love baseb...\n",
       "2020-07-24 00:13:41+00:00    Wifey appreciation post!\\n\\nSince the start of...\n",
       "2020-07-24 02:28:43+00:00    It’s time for Dodger baseball #timehop 💙💙💙 #go...\n",
       "2020-05-29 13:43:26+00:00    #Friday #Morning Adorably accurate!! 💫 Remembe...\n",
       "2020-04-29 20:32:33+00:00    Got some masks from Fresno 😷\\nFeeling loved an...\n",
       "                                                   ...                        \n",
       "2020-06-19 03:16:19+00:00    Out bottle poppin’ &amp; Covid shoppin’🍾🖖🏾 #Ga...\n",
       "2020-05-02 18:01:49+00:00    my heart goes out to all you long-distance lov...\n",
       "2020-05-02 21:55:26+00:00    If my cat 🐈 was still alive, she would be at t...\n",
       "2020-07-14 16:17:59+00:00    MASK IT\\n    Or\\n    CASKET...   enough said!\\...\n",
       "2020-07-14 18:50:17+00:00    In the community doing Corona Virus testing to...\n",
       "Name: text, Length: 337, dtype: object"
      ]
     },
     "execution_count": 23,
     "metadata": {},
     "output_type": "execute_result"
    }
   ],
   "source": [
    "b['text']"
   ]
  },
  {
   "cell_type": "code",
   "execution_count": null,
   "metadata": {},
   "outputs": [],
   "source": []
  }
 ],
 "metadata": {
  "kernelspec": {
   "display_name": "Python 3",
   "language": "python",
   "name": "python3"
  },
  "language_info": {
   "codemirror_mode": {
    "name": "ipython",
    "version": 3
   },
   "file_extension": ".py",
   "mimetype": "text/x-python",
   "name": "python",
   "nbconvert_exporter": "python",
   "pygments_lexer": "ipython3",
   "version": "3.7.4"
  }
 },
 "nbformat": 4,
 "nbformat_minor": 4
}
