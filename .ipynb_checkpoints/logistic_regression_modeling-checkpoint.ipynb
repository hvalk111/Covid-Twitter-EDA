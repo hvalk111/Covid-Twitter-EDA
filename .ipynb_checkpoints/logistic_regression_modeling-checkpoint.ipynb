{
 "cells": [
  {
   "cell_type": "code",
   "execution_count": 1,
   "metadata": {},
   "outputs": [
    {
     "name": "stderr",
     "output_type": "stream",
     "text": [
      "/Users/henryvalk/opt/anaconda3/lib/python3.7/site-packages/sklearn/utils/deprecation.py:143: FutureWarning: The sklearn.feature_extraction.stop_words module is  deprecated in version 0.22 and will be removed in version 0.24. The corresponding classes / functions should instead be imported from sklearn.feature_extraction.text. Anything that cannot be imported from sklearn.feature_extraction.text is now part of the private API.\n",
      "  warnings.warn(message, FutureWarning)\n"
     ]
    }
   ],
   "source": [
    "import pandas as pd\n",
    "import numpy as np\n",
    "from sklearn.model_selection import cross_val_score, train_test_split, GridSearchCV\n",
    "from sklearn.linear_model import LogisticRegression, LinearRegression\n",
    "from sklearn.pipeline import Pipeline\n",
    "from sklearn.metrics import confusion_matrix, plot_confusion_matrix, classification_report\n",
    "from sklearn.ensemble import RandomForestClassifier, ExtraTreesClassifier\n",
    "from sklearn.feature_extraction.stop_words import ENGLISH_STOP_WORDS as stopwords\n",
    "from sklearn.feature_extraction.text import CountVectorizer, TfidfVectorizer"
   ]
  },
  {
   "cell_type": "code",
   "execution_count": 2,
   "metadata": {},
   "outputs": [],
   "source": [
    "tx_sent = pd.read_hdf('./data/processed/tx_sentiment_mean.hdf', key='df')\n",
    "ca_sent = pd.read_hdf('./data/processed/ca_sentiment_mean.hdf', key='df')\n",
    "ny_sent = pd.read_hdf('./data/processed/ny_sentiment_mean.hdf', key='df')\n",
    "fl_sent = pd.read_hdf('./data/processed/fl_sentiment_mean.hdf', key='df')\n",
    "ga_sent = pd.read_hdf('./data/processed/ga_sentiment_mean.hdf', key='df')"
   ]
  },
  {
   "cell_type": "code",
   "execution_count": 3,
   "metadata": {},
   "outputs": [],
   "source": [
    "covid = pd.read_csv('./Covid_Data/time_series_covid19_confirmed_US.csv')"
   ]
  },
  {
   "cell_type": "code",
   "execution_count": 4,
   "metadata": {},
   "outputs": [],
   "source": [
    "covidg = covid.groupby('Province_State').sum()"
   ]
  },
  {
   "cell_type": "code",
   "execution_count": 5,
   "metadata": {},
   "outputs": [],
   "source": [
    "covidg = covidg.drop(['UID', 'code3', 'FIPS', 'Lat', 'Long_'], axis = 1)"
   ]
  },
  {
   "cell_type": "code",
   "execution_count": 6,
   "metadata": {},
   "outputs": [],
   "source": [
    "tx_covid = covidg.loc['Texas',:]\n",
    "ca_covid = covidg.loc['California',:]\n",
    "ny_covid = covidg.loc['New York',:]\n",
    "fl_covid = covidg.loc['Florida',:]\n",
    "ga_covid = covidg.loc['Georgia',:]"
   ]
  },
  {
   "cell_type": "code",
   "execution_count": 7,
   "metadata": {},
   "outputs": [],
   "source": [
    "tx_covid = pd.DataFrame(tx_covid)\n",
    "tx_covid.index= pd.to_datetime(tx_covid.index)\n",
    "ca_covid = pd.DataFrame(ca_covid)\n",
    "ca_covid.index= pd.to_datetime(ca_covid.index)\n",
    "ny_covid = pd.DataFrame(ny_covid)\n",
    "ny_covid.index= pd.to_datetime(ny_covid.index)\n",
    "fl_covid = pd.DataFrame(fl_covid)\n",
    "fl_covid.index= pd.to_datetime(fl_covid.index)\n",
    "ga_covid = pd.DataFrame(ga_covid)\n",
    "ga_covid.index= pd.to_datetime(ga_covid.index)"
   ]
  },
  {
   "cell_type": "code",
   "execution_count": 8,
   "metadata": {},
   "outputs": [],
   "source": [
    "tx = tx_covid.join(tx_sent, how = 'right')\n",
    "ca = ca_covid.join(ca_sent, how = 'right')\n",
    "ny = ny_covid.join(ny_sent, how = 'right')\n",
    "fl = fl_covid.join(fl_sent, how = 'right')\n",
    "ga = ga_covid.join(ga_sent, how = 'right')"
   ]
  },
  {
   "cell_type": "code",
   "execution_count": 9,
   "metadata": {},
   "outputs": [],
   "source": [
    "shift = 1\n",
    "roll = 3"
   ]
  },
  {
   "cell_type": "code",
   "execution_count": 10,
   "metadata": {},
   "outputs": [],
   "source": [
    "tx['delta'] = tx['Texas']-tx['Texas'].shift(shift).rolling(roll).mean()\n",
    "ca['delta'] = ca['California']-ca['California'].shift(shift).rolling(roll).mean()\n",
    "ny['delta'] = ny['New York']-ny['New York'].shift(shift).rolling(roll).mean()\n",
    "fl['delta'] = fl['Florida']-fl['Florida'].shift(shift).rolling(roll).mean()\n",
    "ga['delta'] = ga['Georgia']-ga['Georgia'].shift(shift).rolling(roll).mean()\n",
    "tx['delta_delta'] = tx['delta']-tx['delta'].shift(1)\n",
    "ca['delta_delta'] = ca['delta']-ca['delta'].shift(1)\n",
    "ny['delta_delta'] = ny['delta']-ny['delta'].shift(1)\n",
    "fl['delta_delta'] = fl['delta']-fl['delta'].shift(1)\n",
    "ga['delta_delta'] = ga['delta']-ga['delta'].shift(1)\n",
    "tx['binary_delta'] =np.sign(tx['delta_delta'])\n",
    "ca['binary_delta'] =np.sign(ca['delta_delta'])\n",
    "ny['binary_delta'] =np.sign(ny['delta_delta'])\n",
    "fl['binary_delta'] =np.sign(fl['delta_delta'])\n",
    "ga['binary_delta'] =np.sign(ga['delta_delta'])"
   ]
  },
  {
   "cell_type": "code",
   "execution_count": 11,
   "metadata": {},
   "outputs": [],
   "source": [
    "tx.dropna(inplace=True)\n",
    "ca.dropna(inplace=True)\n",
    "ny.dropna(inplace=True)\n",
    "fl.dropna(inplace=True)\n",
    "ga.dropna(inplace=True)"
   ]
  },
  {
   "cell_type": "code",
   "execution_count": 12,
   "metadata": {},
   "outputs": [],
   "source": [
    "features = ['TB_polarity', 'TB_subjectivity']\n",
    "X_tx = tx[features]\n",
    "y_tx= tx['binary_delta']\n",
    "X_tx_train, X_tx_test, y_tx_train, y_tx_test = train_test_split(X_tx, y_tx, random_state=42, shuffle = False)\n",
    "X_ca = ca[features]\n",
    "y_ca= ca['binary_delta']\n",
    "X_ca_train, X_ca_test, y_ca_train, y_ca_test = train_test_split(X_ca, y_ca, random_state=42, shuffle = False)\n",
    "X_ny = ny[features]\n",
    "y_ny= ny['binary_delta']\n",
    "X_ny_train, X_ny_test, y_ny_train, y_ny_test = train_test_split(X_ny, y_ny, random_state=42, shuffle = False)\n",
    "X_fl = fl[features]\n",
    "y_fl= fl['binary_delta']\n",
    "X_fl_train, X_fl_test, y_fl_train, y_fl_test = train_test_split(X_fl, y_fl, random_state=42, shuffle = False)\n",
    "X_ga = ga[features]\n",
    "y_ga= ga['binary_delta']\n",
    "X_ga_train, X_ga_test, y_ga_train, y_ga_test = train_test_split(X_ga, y_ga, random_state=42, shuffle = False)"
   ]
  },
  {
   "cell_type": "code",
   "execution_count": 13,
   "metadata": {},
   "outputs": [],
   "source": [
    "tx_model = LogisticRegression().fit(X_tx_train, y_tx_train)\n",
    "ca_model = LogisticRegression().fit(X_ca_train, y_ca_train)\n",
    "ny_model = LogisticRegression().fit(X_ny_train, y_ny_train)\n",
    "fl_model = LogisticRegression().fit(X_fl_train, y_fl_train)\n",
    "ga_model = LogisticRegression().fit(X_ga_train, y_ga_train)"
   ]
  },
  {
   "cell_type": "code",
   "execution_count": 14,
   "metadata": {},
   "outputs": [
    {
     "name": "stdout",
     "output_type": "stream",
     "text": [
      "[0.47058823529411764, 0.38235294117647056, 0.5588235294117647, 0.5757575757575758, 0.4642857142857143]\n"
     ]
    }
   ],
   "source": [
    "scores = []\n",
    "scores.append(tx_model.score(X_tx_test, y_tx_test))\n",
    "scores.append(ca_model.score(X_ca_test, y_ca_test))\n",
    "scores.append(ny_model.score(X_ny_test, y_ny_test))\n",
    "scores.append(fl_model.score(X_fl_test, y_fl_test))\n",
    "scores.append(ga_model.score(X_ga_test, y_ga_test))\n",
    "print(scores)"
   ]
  },
  {
   "cell_type": "code",
   "execution_count": 15,
   "metadata": {},
   "outputs": [
    {
     "data": {
      "text/plain": [
       "{'-1.0': {'precision': 0.5625,\n",
       "  'recall': 0.5625,\n",
       "  'f1-score': 0.5625,\n",
       "  'support': 16},\n",
       " '1.0': {'precision': 0.5882352941176471,\n",
       "  'recall': 0.5882352941176471,\n",
       "  'f1-score': 0.5882352941176471,\n",
       "  'support': 17},\n",
       " 'accuracy': 0.5757575757575758,\n",
       " 'macro avg': {'precision': 0.5753676470588236,\n",
       "  'recall': 0.5753676470588236,\n",
       "  'f1-score': 0.5753676470588236,\n",
       "  'support': 33},\n",
       " 'weighted avg': {'precision': 0.5757575757575758,\n",
       "  'recall': 0.5757575757575758,\n",
       "  'f1-score': 0.5757575757575758,\n",
       "  'support': 33}}"
      ]
     },
     "execution_count": 15,
     "metadata": {},
     "output_type": "execute_result"
    },
    {
     "data": {
      "image/png": "[encoded data removed]",
      "text/plain": [
       "<Figure size 432x288 with 2 Axes>"
      ]
     },
     "metadata": {
      "needs_background": "light"
     },
     "output_type": "display_data"
    }
   ],
   "source": [
    "log_pred = fl_model.predict(X_fl_test)\n",
    "plot_confusion_matrix(fl_model,X_fl_test,y_fl_test);\n",
    "classification_report(y_fl_test,log_pred, output_dict=True)"
   ]
  }
 ],
 "metadata": {
  "kernelspec": {
   "display_name": "Python 3",
   "language": "python",
   "name": "python3"
  },
  "language_info": {
   "codemirror_mode": {
    "name": "ipython",
    "version": 3
   },
   "file_extension": ".py",
   "mimetype": "text/x-python",
   "name": "python",
   "nbconvert_exporter": "python",
   "pygments_lexer": "ipython3",
   "version": "3.7.6"
  }
 },
 "nbformat": 4,
 "nbformat_minor": 4
}
