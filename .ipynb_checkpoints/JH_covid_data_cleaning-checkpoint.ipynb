{
 "cells": [
  {
   "cell_type": "markdown",
   "metadata": {},
   "source": [
    "# Prepare Johns Hopkins Covid Data for modeling"
   ]
  },
  {
   "cell_type": "code",
   "execution_count": 223,
   "metadata": {},
   "outputs": [],
   "source": [
    "import pandas as pd"
   ]
  },
  {
   "cell_type": "code",
   "execution_count": 224,
   "metadata": {},
   "outputs": [],
   "source": [
    "cases = pd.read_csv('./Covid_data/time_series_covid19_confirmed_US.csv')\n",
    "deaths = pd.read_csv('./Covid_data/time_series_covid19_deaths_US.csv')"
   ]
  },
  {
   "cell_type": "code",
   "execution_count": 225,
   "metadata": {},
   "outputs": [],
   "source": [
    "US_states = [\"Alabama\",\"Alaska\",\"Arizona\",\"Arkansas\",\"California\",\"Colorado\",\n",
    "  \"Connecticut\",\"Delaware\",\"Florida\",\"Georgia\",\"Hawaii\",\"Idaho\",\"Illinois\",\n",
    "  \"Indiana\",\"Iowa\",\"Kansas\",\"Kentucky\",\"Louisiana\",\"Maine\",\"Maryland\",\n",
    "  \"Massachusetts\",\"Michigan\",\"Minnesota\",\"Mississippi\",\"Missouri\",\"Montana\",\n",
    "  \"Nebraska\",\"Nevada\",\"New Hampshire\",\"New Jersey\",\"New Mexico\",\"New York\",\n",
    "  \"North Carolina\",\"North Dakota\",\"Ohio\",\"Oklahoma\",\"Oregon\",\"Pennsylvania\",\n",
    "  \"Rhode Island\",\"South Carolina\",\"South Dakota\",\"Tennessee\",\"Texas\",\"Utah\",\n",
    "  \"Vermont\",\"Virginia\",\"Washington\",\"West Virginia\",\"Wisconsin\",\"Wyoming\"]"
   ]
  },
  {
   "cell_type": "markdown",
   "metadata": {},
   "source": [
    "#### grab dates from column names, convert to datetime"
   ]
  },
  {
   "cell_type": "code",
   "execution_count": 226,
   "metadata": {},
   "outputs": [],
   "source": [
    "date_index = pd.Series(cases.groupby('Province_State').sum().iloc[:, 5:].columns)\n",
    "date_index = pd.to_datetime(date_index)"
   ]
  },
  {
   "cell_type": "markdown",
   "metadata": {},
   "source": [
    "#### transpose cases matrix, set index to dates, drop non-state territories"
   ]
  },
  {
   "cell_type": "code",
   "execution_count": 227,
   "metadata": {},
   "outputs": [],
   "source": [
    "covid_df = cases.groupby('Province_State').sum().iloc[:, 5:].transpose()\n",
    "\n",
    "covid_df = covid_df.set_index(date_index)\n",
    "\n",
    "covid_df = covid_df.loc[:, US_states]"
   ]
  },
  {
   "cell_type": "markdown",
   "metadata": {},
   "source": [
    "#### add _cases to column names"
   ]
  },
  {
   "cell_type": "code",
   "execution_count": 228,
   "metadata": {},
   "outputs": [],
   "source": [
    "covid_df.columns = [str(col) + '_cases' for col in covid_df.columns]"
   ]
  },
  {
   "cell_type": "markdown",
   "metadata": {},
   "source": [
    "#### create dataframe of population by state, to be saved separately"
   ]
  },
  {
   "cell_type": "code",
   "execution_count": 229,
   "metadata": {},
   "outputs": [],
   "source": [
    "pop_df = deaths.groupby('Province_State').sum().reset_index()"
   ]
  },
  {
   "cell_type": "code",
   "execution_count": 230,
   "metadata": {},
   "outputs": [],
   "source": [
    "pop_df = pop_df.loc[:,['Province_State', 'Population']]"
   ]
  },
  {
   "cell_type": "code",
   "execution_count": 231,
   "metadata": {},
   "outputs": [
    {
     "data": {
      "text/plain": [
       "(58, 2)"
      ]
     },
     "execution_count": 231,
     "metadata": {},
     "output_type": "execute_result"
    }
   ],
   "source": [
    "pop_df.shape"
   ]
  },
  {
   "cell_type": "markdown",
   "metadata": {},
   "source": [
    "#### Keep only 50 states"
   ]
  },
  {
   "cell_type": "code",
   "execution_count": 232,
   "metadata": {},
   "outputs": [],
   "source": [
    "pop_df = pop_df[pop_df['Province_State'].map(lambda x: x in US_states)]"
   ]
  },
  {
   "cell_type": "markdown",
   "metadata": {},
   "source": [
    "#### repeate steps with deaths data"
   ]
  },
  {
   "cell_type": "code",
   "execution_count": 233,
   "metadata": {},
   "outputs": [],
   "source": [
    "deaths_df = deaths.groupby('Province_State').sum().iloc[:, 6:].transpose()\n",
    "\n",
    "deaths_df = deaths_df.set_index(date_index)\n",
    "\n",
    "deaths_df = deaths_df.loc[:, US_states]"
   ]
  },
  {
   "cell_type": "code",
   "execution_count": 234,
   "metadata": {},
   "outputs": [],
   "source": [
    "deaths_df.columns = [str(col) + '_deaths' for col in deaths_df.columns]"
   ]
  },
  {
   "cell_type": "markdown",
   "metadata": {},
   "source": [
    "#### concatenate cases and deaths data, make sure there are no spaces in column names"
   ]
  },
  {
   "cell_type": "code",
   "execution_count": 235,
   "metadata": {},
   "outputs": [],
   "source": [
    "covid_df = pd.concat([covid_df, deaths_df], axis=1)\n",
    "\n",
    "covid_df.columns = [str(col).replace(' ', '_') for col in covid_df.columns]"
   ]
  },
  {
   "cell_type": "code",
   "execution_count": 236,
   "metadata": {},
   "outputs": [
    {
     "data": {
      "text/html": [
       "<div>\n",
       "<style scoped>\n",
       "    .dataframe tbody tr th:only-of-type {\n",
       "        vertical-align: middle;\n",
       "    }\n",
       "\n",
       "    .dataframe tbody tr th {\n",
       "        vertical-align: top;\n",
       "    }\n",
       "\n",
       "    .dataframe thead th {\n",
       "        text-align: right;\n",
       "    }\n",
       "</style>\n",
       "<table border=\"1\" class=\"dataframe\">\n",
       "  <thead>\n",
       "    <tr style=\"text-align: right;\">\n",
       "      <th></th>\n",
       "      <th>Alabama_cases</th>\n",
       "      <th>Alaska_cases</th>\n",
       "      <th>Arizona_cases</th>\n",
       "      <th>Arkansas_cases</th>\n",
       "      <th>California_cases</th>\n",
       "      <th>Colorado_cases</th>\n",
       "      <th>Connecticut_cases</th>\n",
       "      <th>Delaware_cases</th>\n",
       "      <th>Florida_cases</th>\n",
       "      <th>Georgia_cases</th>\n",
       "      <th>...</th>\n",
       "      <th>South_Dakota_deaths</th>\n",
       "      <th>Tennessee_deaths</th>\n",
       "      <th>Texas_deaths</th>\n",
       "      <th>Utah_deaths</th>\n",
       "      <th>Vermont_deaths</th>\n",
       "      <th>Virginia_deaths</th>\n",
       "      <th>Washington_deaths</th>\n",
       "      <th>West_Virginia_deaths</th>\n",
       "      <th>Wisconsin_deaths</th>\n",
       "      <th>Wyoming_deaths</th>\n",
       "    </tr>\n",
       "  </thead>\n",
       "  <tbody>\n",
       "    <tr>\n",
       "      <th>2020-01-22</th>\n",
       "      <td>0</td>\n",
       "      <td>0</td>\n",
       "      <td>0</td>\n",
       "      <td>0</td>\n",
       "      <td>0</td>\n",
       "      <td>0</td>\n",
       "      <td>0</td>\n",
       "      <td>0</td>\n",
       "      <td>0</td>\n",
       "      <td>0</td>\n",
       "      <td>...</td>\n",
       "      <td>0</td>\n",
       "      <td>0</td>\n",
       "      <td>0</td>\n",
       "      <td>0</td>\n",
       "      <td>0</td>\n",
       "      <td>0</td>\n",
       "      <td>0</td>\n",
       "      <td>0</td>\n",
       "      <td>0</td>\n",
       "      <td>0</td>\n",
       "    </tr>\n",
       "    <tr>\n",
       "      <th>2020-01-23</th>\n",
       "      <td>0</td>\n",
       "      <td>0</td>\n",
       "      <td>0</td>\n",
       "      <td>0</td>\n",
       "      <td>0</td>\n",
       "      <td>0</td>\n",
       "      <td>0</td>\n",
       "      <td>0</td>\n",
       "      <td>0</td>\n",
       "      <td>0</td>\n",
       "      <td>...</td>\n",
       "      <td>0</td>\n",
       "      <td>0</td>\n",
       "      <td>0</td>\n",
       "      <td>0</td>\n",
       "      <td>0</td>\n",
       "      <td>0</td>\n",
       "      <td>0</td>\n",
       "      <td>0</td>\n",
       "      <td>0</td>\n",
       "      <td>0</td>\n",
       "    </tr>\n",
       "    <tr>\n",
       "      <th>2020-01-24</th>\n",
       "      <td>0</td>\n",
       "      <td>0</td>\n",
       "      <td>0</td>\n",
       "      <td>0</td>\n",
       "      <td>0</td>\n",
       "      <td>0</td>\n",
       "      <td>0</td>\n",
       "      <td>0</td>\n",
       "      <td>0</td>\n",
       "      <td>0</td>\n",
       "      <td>...</td>\n",
       "      <td>0</td>\n",
       "      <td>0</td>\n",
       "      <td>0</td>\n",
       "      <td>0</td>\n",
       "      <td>0</td>\n",
       "      <td>0</td>\n",
       "      <td>0</td>\n",
       "      <td>0</td>\n",
       "      <td>0</td>\n",
       "      <td>0</td>\n",
       "    </tr>\n",
       "    <tr>\n",
       "      <th>2020-01-25</th>\n",
       "      <td>0</td>\n",
       "      <td>0</td>\n",
       "      <td>0</td>\n",
       "      <td>0</td>\n",
       "      <td>0</td>\n",
       "      <td>0</td>\n",
       "      <td>0</td>\n",
       "      <td>0</td>\n",
       "      <td>0</td>\n",
       "      <td>0</td>\n",
       "      <td>...</td>\n",
       "      <td>0</td>\n",
       "      <td>0</td>\n",
       "      <td>0</td>\n",
       "      <td>0</td>\n",
       "      <td>0</td>\n",
       "      <td>0</td>\n",
       "      <td>0</td>\n",
       "      <td>0</td>\n",
       "      <td>0</td>\n",
       "      <td>0</td>\n",
       "    </tr>\n",
       "    <tr>\n",
       "      <th>2020-01-26</th>\n",
       "      <td>0</td>\n",
       "      <td>0</td>\n",
       "      <td>1</td>\n",
       "      <td>0</td>\n",
       "      <td>2</td>\n",
       "      <td>0</td>\n",
       "      <td>0</td>\n",
       "      <td>0</td>\n",
       "      <td>0</td>\n",
       "      <td>0</td>\n",
       "      <td>...</td>\n",
       "      <td>0</td>\n",
       "      <td>0</td>\n",
       "      <td>0</td>\n",
       "      <td>0</td>\n",
       "      <td>0</td>\n",
       "      <td>0</td>\n",
       "      <td>0</td>\n",
       "      <td>0</td>\n",
       "      <td>0</td>\n",
       "      <td>0</td>\n",
       "    </tr>\n",
       "    <tr>\n",
       "      <th>...</th>\n",
       "      <td>...</td>\n",
       "      <td>...</td>\n",
       "      <td>...</td>\n",
       "      <td>...</td>\n",
       "      <td>...</td>\n",
       "      <td>...</td>\n",
       "      <td>...</td>\n",
       "      <td>...</td>\n",
       "      <td>...</td>\n",
       "      <td>...</td>\n",
       "      <td>...</td>\n",
       "      <td>...</td>\n",
       "      <td>...</td>\n",
       "      <td>...</td>\n",
       "      <td>...</td>\n",
       "      <td>...</td>\n",
       "      <td>...</td>\n",
       "      <td>...</td>\n",
       "      <td>...</td>\n",
       "      <td>...</td>\n",
       "      <td>...</td>\n",
       "    </tr>\n",
       "    <tr>\n",
       "      <th>2020-07-31</th>\n",
       "      <td>87723</td>\n",
       "      <td>2990</td>\n",
       "      <td>174010</td>\n",
       "      <td>42511</td>\n",
       "      <td>500556</td>\n",
       "      <td>46791</td>\n",
       "      <td>49810</td>\n",
       "      <td>14788</td>\n",
       "      <td>470386</td>\n",
       "      <td>186352</td>\n",
       "      <td>...</td>\n",
       "      <td>130</td>\n",
       "      <td>1060</td>\n",
       "      <td>6576</td>\n",
       "      <td>304</td>\n",
       "      <td>57</td>\n",
       "      <td>2174</td>\n",
       "      <td>1564</td>\n",
       "      <td>116</td>\n",
       "      <td>934</td>\n",
       "      <td>26</td>\n",
       "    </tr>\n",
       "    <tr>\n",
       "      <th>2020-08-01</th>\n",
       "      <td>89349</td>\n",
       "      <td>3136</td>\n",
       "      <td>177002</td>\n",
       "      <td>43173</td>\n",
       "      <td>506613</td>\n",
       "      <td>47249</td>\n",
       "      <td>49810</td>\n",
       "      <td>14877</td>\n",
       "      <td>480028</td>\n",
       "      <td>190012</td>\n",
       "      <td>...</td>\n",
       "      <td>134</td>\n",
       "      <td>1067</td>\n",
       "      <td>6865</td>\n",
       "      <td>310</td>\n",
       "      <td>57</td>\n",
       "      <td>2215</td>\n",
       "      <td>1592</td>\n",
       "      <td>116</td>\n",
       "      <td>947</td>\n",
       "      <td>26</td>\n",
       "    </tr>\n",
       "    <tr>\n",
       "      <th>2020-08-02</th>\n",
       "      <td>91444</td>\n",
       "      <td>3280</td>\n",
       "      <td>178467</td>\n",
       "      <td>43810</td>\n",
       "      <td>512175</td>\n",
       "      <td>47709</td>\n",
       "      <td>49810</td>\n",
       "      <td>14949</td>\n",
       "      <td>487132</td>\n",
       "      <td>193177</td>\n",
       "      <td>...</td>\n",
       "      <td>135</td>\n",
       "      <td>1073</td>\n",
       "      <td>6878</td>\n",
       "      <td>311</td>\n",
       "      <td>57</td>\n",
       "      <td>2218</td>\n",
       "      <td>1596</td>\n",
       "      <td>117</td>\n",
       "      <td>948</td>\n",
       "      <td>26</td>\n",
       "    </tr>\n",
       "    <tr>\n",
       "      <th>2020-08-03</th>\n",
       "      <td>92661</td>\n",
       "      <td>3341</td>\n",
       "      <td>179497</td>\n",
       "      <td>44597</td>\n",
       "      <td>516851</td>\n",
       "      <td>47950</td>\n",
       "      <td>50062</td>\n",
       "      <td>15055</td>\n",
       "      <td>491884</td>\n",
       "      <td>195435</td>\n",
       "      <td>...</td>\n",
       "      <td>135</td>\n",
       "      <td>1092</td>\n",
       "      <td>7016</td>\n",
       "      <td>314</td>\n",
       "      <td>57</td>\n",
       "      <td>2218</td>\n",
       "      <td>1600</td>\n",
       "      <td>117</td>\n",
       "      <td>949</td>\n",
       "      <td>27</td>\n",
       "    </tr>\n",
       "    <tr>\n",
       "      <th>2020-08-04</th>\n",
       "      <td>93702</td>\n",
       "      <td>3394</td>\n",
       "      <td>180505</td>\n",
       "      <td>45381</td>\n",
       "      <td>526685</td>\n",
       "      <td>48376</td>\n",
       "      <td>50110</td>\n",
       "      <td>15137</td>\n",
       "      <td>497330</td>\n",
       "      <td>197948</td>\n",
       "      <td>...</td>\n",
       "      <td>136</td>\n",
       "      <td>1117</td>\n",
       "      <td>7271</td>\n",
       "      <td>321</td>\n",
       "      <td>57</td>\n",
       "      <td>2244</td>\n",
       "      <td>1619</td>\n",
       "      <td>124</td>\n",
       "      <td>961</td>\n",
       "      <td>27</td>\n",
       "    </tr>\n",
       "  </tbody>\n",
       "</table>\n",
       "<p>196 rows × 100 columns</p>\n",
       "</div>"
      ],
      "text/plain": [
       "            Alabama_cases  Alaska_cases  Arizona_cases  Arkansas_cases  \\\n",
       "2020-01-22              0             0              0               0   \n",
       "2020-01-23              0             0              0               0   \n",
       "2020-01-24              0             0              0               0   \n",
       "2020-01-25              0             0              0               0   \n",
       "2020-01-26              0             0              1               0   \n",
       "...                   ...           ...            ...             ...   \n",
       "2020-07-31          87723          2990         174010           42511   \n",
       "2020-08-01          89349          3136         177002           43173   \n",
       "2020-08-02          91444          3280         178467           43810   \n",
       "2020-08-03          92661          3341         179497           44597   \n",
       "2020-08-04          93702          3394         180505           45381   \n",
       "\n",
       "            California_cases  Colorado_cases  Connecticut_cases  \\\n",
       "2020-01-22                 0               0                  0   \n",
       "2020-01-23                 0               0                  0   \n",
       "2020-01-24                 0               0                  0   \n",
       "2020-01-25                 0               0                  0   \n",
       "2020-01-26                 2               0                  0   \n",
       "...                      ...             ...                ...   \n",
       "2020-07-31            500556           46791              49810   \n",
       "2020-08-01            506613           47249              49810   \n",
       "2020-08-02            512175           47709              49810   \n",
       "2020-08-03            516851           47950              50062   \n",
       "2020-08-04            526685           48376              50110   \n",
       "\n",
       "            Delaware_cases  Florida_cases  Georgia_cases  ...  \\\n",
       "2020-01-22               0              0              0  ...   \n",
       "2020-01-23               0              0              0  ...   \n",
       "2020-01-24               0              0              0  ...   \n",
       "2020-01-25               0              0              0  ...   \n",
       "2020-01-26               0              0              0  ...   \n",
       "...                    ...            ...            ...  ...   \n",
       "2020-07-31           14788         470386         186352  ...   \n",
       "2020-08-01           14877         480028         190012  ...   \n",
       "2020-08-02           14949         487132         193177  ...   \n",
       "2020-08-03           15055         491884         195435  ...   \n",
       "2020-08-04           15137         497330         197948  ...   \n",
       "\n",
       "            South_Dakota_deaths  Tennessee_deaths  Texas_deaths  Utah_deaths  \\\n",
       "2020-01-22                    0                 0             0            0   \n",
       "2020-01-23                    0                 0             0            0   \n",
       "2020-01-24                    0                 0             0            0   \n",
       "2020-01-25                    0                 0             0            0   \n",
       "2020-01-26                    0                 0             0            0   \n",
       "...                         ...               ...           ...          ...   \n",
       "2020-07-31                  130              1060          6576          304   \n",
       "2020-08-01                  134              1067          6865          310   \n",
       "2020-08-02                  135              1073          6878          311   \n",
       "2020-08-03                  135              1092          7016          314   \n",
       "2020-08-04                  136              1117          7271          321   \n",
       "\n",
       "            Vermont_deaths  Virginia_deaths  Washington_deaths  \\\n",
       "2020-01-22               0                0                  0   \n",
       "2020-01-23               0                0                  0   \n",
       "2020-01-24               0                0                  0   \n",
       "2020-01-25               0                0                  0   \n",
       "2020-01-26               0                0                  0   \n",
       "...                    ...              ...                ...   \n",
       "2020-07-31              57             2174               1564   \n",
       "2020-08-01              57             2215               1592   \n",
       "2020-08-02              57             2218               1596   \n",
       "2020-08-03              57             2218               1600   \n",
       "2020-08-04              57             2244               1619   \n",
       "\n",
       "            West_Virginia_deaths  Wisconsin_deaths  Wyoming_deaths  \n",
       "2020-01-22                     0                 0               0  \n",
       "2020-01-23                     0                 0               0  \n",
       "2020-01-24                     0                 0               0  \n",
       "2020-01-25                     0                 0               0  \n",
       "2020-01-26                     0                 0               0  \n",
       "...                          ...               ...             ...  \n",
       "2020-07-31                   116               934              26  \n",
       "2020-08-01                   116               947              26  \n",
       "2020-08-02                   117               948              26  \n",
       "2020-08-03                   117               949              27  \n",
       "2020-08-04                   124               961              27  \n",
       "\n",
       "[196 rows x 100 columns]"
      ]
     },
     "execution_count": 236,
     "metadata": {},
     "output_type": "execute_result"
    }
   ],
   "source": [
    "covid_df"
   ]
  },
  {
   "cell_type": "markdown",
   "metadata": {},
   "source": [
    "#### create copy of covid_df with per capita data"
   ]
  },
  {
   "cell_type": "code",
   "execution_count": 237,
   "metadata": {},
   "outputs": [],
   "source": [
    "covid_per_cap = covid_df.copy()\n",
    "\n",
    "# temporarily make column names match pop_df rows\n",
    "covid_per_cap.columns = [x.replace('_', ' ') for x in covid_per_cap.columns]             \n"
   ]
  },
  {
   "cell_type": "code",
   "execution_count": 238,
   "metadata": {},
   "outputs": [],
   "source": [
    "# where column name is equal to pop_df row, divide column by corresponding population\n",
    "for col in covid_per_cap.columns:\n",
    "    for index, row in pop_df.iterrows():\n",
    "        if str(pop_df['Province_State'][index]) in str(col):\n",
    "            covid_per_cap[col] = covid_per_cap[col] / pop_df['Population'][index] * 100\n",
    "\n",
    "# rename columns\n",
    "covid_per_cap.columns = covid_df.columns"
   ]
  },
  {
   "cell_type": "code",
   "execution_count": 239,
   "metadata": {},
   "outputs": [],
   "source": [
    "# manually fix virginia / west virginia double division\n",
    "covid_per_cap['West_Virginia_cases'] = covid_df['West_Virginia_cases']\n",
    "covid_per_cap['West_Virginia_deaths'] = covid_df['West_Virginia_deaths']\n",
    "\n",
    "covid_per_cap['West_Virginia_cases'] = covid_per_cap['West_Virginia_cases'] / pop_df.loc[47, 'Population'] * 100\n",
    "covid_per_cap['West_Virginia_deaths'] = covid_per_cap['West_Virginia_deaths'] / pop_df.loc[47, 'Population'] * 100"
   ]
  },
  {
   "cell_type": "markdown",
   "metadata": {},
   "source": [
    "#### save files (as hdf to maintain custom index)"
   ]
  },
  {
   "cell_type": "code",
   "execution_count": 240,
   "metadata": {},
   "outputs": [],
   "source": [
    "covid_df.to_hdf('./Covid_data/covid_df.hdf', key='df')\n",
    "pop_df.to_hdf('./Covid_data/population_df.hdf', key='df')\n",
    "covid_per_cap.to_hdf('./Covid_data/covid_per_cap_df.hdf', key='df')"
   ]
  }
 ],
 "metadata": {
  "kernelspec": {
   "display_name": "Python 3",
   "language": "python",
   "name": "python3"
  },
  "language_info": {
   "codemirror_mode": {
    "name": "ipython",
    "version": 3
   },
   "file_extension": ".py",
   "mimetype": "text/x-python",
   "name": "python",
   "nbconvert_exporter": "python",
   "pygments_lexer": "ipython3",
   "version": "3.7.6"
  }
 },
 "nbformat": 4,
 "nbformat_minor": 4
}
